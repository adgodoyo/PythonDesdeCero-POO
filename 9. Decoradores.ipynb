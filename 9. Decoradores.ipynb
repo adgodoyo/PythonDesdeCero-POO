{
 "cells": [
  {
   "cell_type": "markdown",
   "id": "f9fcd37c",
   "metadata": {},
   "source": [
    "# Decoradores"
   ]
  },
  {
   "cell_type": "markdown",
   "id": "9c898d17",
   "metadata": {},
   "source": [
    "Un decorador es una función de orden superior que toma otra función como argumento y devuelve una nueva función. Esta nueva función generalmente incluye alguna forma de funcionalidad adicional que se ejecuta antes o después de la función argumento. El objetivo principal de los decoradores es extender o modificar el comportamiento de la función argumento de manera limpia y reutilizable, sin alterar su código fuente."
   ]
  },
  {
   "cell_type": "markdown",
   "id": "e51e9faa",
   "metadata": {},
   "source": [
    "Los decoradores son útiles para:\n",
    "\n",
    "• Agregar funcionalidades de forma transparente a las funciones existentes (por ejemplo, registro, manejo de excepciones, verificación de permisos, caching, etc.).\n",
    "\n",
    "• Modificar el comportamiento de una función de manera dinámica.\n",
    "\n",
    "• Facilitar la separación de preocupaciones y mejorar la legibilidad del código al separar la funcionalidad principal de aspectos adicionales como el logging o la autenticación.\n",
    "\n",
    "En Python, los decoradores se aplican con el **símbolo @**, seguido del nombre del decorador, ubicado justo antes de la definición de la función que se desea decorar. Esta sintaxis es solo una forma azucarada (syntactic sugar) para aplicar una función decoradora."
   ]
  },
  {
   "cell_type": "code",
   "execution_count": null,
   "id": "5da05029",
   "metadata": {},
   "outputs": [],
   "source": [
    "#Los decoradores en Python son una herramienta poderosa para abstraer funcionalidades como la autenticación de usuarios. \n",
    "def require_authentication(func):\n",
    "    def wrapper(*args, **kwargs): #función que devuelve\n",
    "        # Aquí iría la lógica de autenticación\n",
    "        user_authenticated = True  # Supongamos que el usuario está autenticado\n",
    "\n",
    "        if user_authenticated:\n",
    "            return func(*args, **kwargs) # función original\n",
    "        else:\n",
    "            raise Exception(\"Usuario no autenticado. Acceso denegado.\")\n",
    "    \n",
    "    return wrapper\n",
    "\n",
    "@require_authentication\n",
    "def view_dashboard():\n",
    "    return \"Dashboard visible para el usuario.\"\n",
    "\n",
    "@require_authentication\n",
    "def change_settings():\n",
    "    return \"Ajustes modificados por el usuario.\"\n",
    "\n",
    "@require_authentication\n",
    "def view_profile():\n",
    "    return \"Perfil del usuario.\"\n"
   ]
  },
  {
   "cell_type": "markdown",
   "id": "76854652",
   "metadata": {},
   "source": [
    "Otro ejemplo:"
   ]
  },
  {
   "cell_type": "code",
   "execution_count": null,
   "id": "b3ce4af9",
   "metadata": {},
   "outputs": [],
   "source": [
    "import functools\n",
    "import datetime\n",
    "\n",
    "def log_execution(func):\n",
    "    @functools.wraps(func)\n",
    "    def wrapper(*args, **kwargs):\n",
    "        start_time = datetime.datetime.now()\n",
    "        print(f\"Función {func.__name__} iniciada a las {start_time}\")\n",
    "\n",
    "        result = func(*args, **kwargs)\n",
    "\n",
    "        end_time = datetime.datetime.now()\n",
    "        print(f\"Función {func.__name__} finalizada a las {end_time}\")\n",
    "        print(f\"Tiempo total: {end_time - start_time}\")\n",
    "\n",
    "        return result\n",
    "\n",
    "    return wrapper\n",
    "\n",
    "\n",
    "@log_execution\n",
    "def calculate_sum(a, b):\n",
    "    return a + b\n",
    "\n",
    "@log_execution\n",
    "def say_hello(name):\n",
    "    return f\"Hola, {name}!\"\n",
    "\n",
    "@log_execution\n",
    "def find_max_value(values):\n",
    "    return max(values)\n"
   ]
  },
  {
   "cell_type": "markdown",
   "id": "4368c4d4",
   "metadata": {},
   "source": [
    "El uso de @functools.wraps en un decorador es una práctica recomendada en Python para preservar información sobre la función original que está siendo decorada. Vamos a desglosar por qué es importante:\n",
    "\n",
    "Preserva la Identidad de la Función Original: Sin @functools.wraps, la función decorada perdería su nombre y documentación originales. Esto se debe a que el decorador reemplaza la función original con wrapper, una nueva función. Al usar @functools.wraps, se copian el nombre, el docstring y otros atributos de la función original a la función decoradora (wrapper).\n",
    "\n",
    "Facilita la Depuración y la Legibilidad: Al preservar el nombre y la documentación de la función original, es más fácil entender y depurar el código, especialmente cuando se utilizan herramientas de introspección o se generan documentaciones automáticas."
   ]
  },
  {
   "cell_type": "code",
   "execution_count": null,
   "id": "d8ff5ad3",
   "metadata": {},
   "outputs": [],
   "source": [
    "import time\n",
    "\n",
    "def registrar_tiempo(func): # aquí defino el decorador, su argumento es una función #func#\n",
    "    def envoltorio(*args, **kwargs): #aquí defino que hará el decorador con la función\n",
    "        inicio = time.time()\n",
    "        resultado = func(*args, **kwargs)\n",
    "        fin = time.time()\n",
    "        tiempo_transcurrido = fin - inicio\n",
    "        print(f\"Tiempo de ejecución: {tiempo_transcurrido:.2f} segundos\")\n",
    "        return resultado  #Este es el resultado de lo que el decorador hará con la función\n",
    "    return envoltorio #guardo el resultado en la definición del decorador\n",
    "\n",
    "@registrar_tiempo\n",
    "def mi_funcion():\n",
    "    time.sleep(1)\n",
    "\n",
    "mi_funcion()"
   ]
  },
  {
   "cell_type": "markdown",
   "id": "5e3a7236",
   "metadata": {},
   "source": [
    "# Sintáxis General"
   ]
  },
  {
   "cell_type": "code",
   "execution_count": null,
   "id": "8d7275ad",
   "metadata": {},
   "outputs": [],
   "source": [
    "def my_decorator(func):\n",
    "    def wrapper(*args, **kwargs):\n",
    "        # Código a ejecutar antes de la función original\n",
    "        result = func(*args, **kwargs)  # Llamada a la función original\n",
    "        # Código a ejecutar después de la función original\n",
    "        return result\n",
    "    return wrapper\n",
    "\n",
    "@my_decorator\n",
    "def my_function():\n",
    "    # Cuerpo de la función\n",
    "    pass\n"
   ]
  },
  {
   "cell_type": "markdown",
   "id": "edc1a523",
   "metadata": {},
   "source": [
    "# AUTOR"
   ]
  },
  {
   "cell_type": "markdown",
   "id": "056bc0aa",
   "metadata": {},
   "source": [
    "**Andrés Daniel Godoy Ortiz**\n",
    "\n",
    "Docente Universidad Externado de Colombia y Universidad de la Sabana"
   ]
  }
 ],
 "metadata": {
  "kernelspec": {
   "display_name": "Python 3 (ipykernel)",
   "language": "python",
   "name": "python3"
  },
  "language_info": {
   "codemirror_mode": {
    "name": "ipython",
    "version": 3
   },
   "file_extension": ".py",
   "mimetype": "text/x-python",
   "name": "python",
   "nbconvert_exporter": "python",
   "pygments_lexer": "ipython3",
   "version": "3.9.7"
  }
 },
 "nbformat": 4,
 "nbformat_minor": 5
}
